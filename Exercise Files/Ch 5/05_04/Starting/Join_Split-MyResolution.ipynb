{
 "cells": [
  {
   "cell_type": "markdown",
   "metadata": {},
   "source": [
    "# Joining and Splitting Arrays\n",
    "- concatenate\n",
    "- stack\n",
    "- split\n"
   ]
  },
  {
   "cell_type": "code",
   "execution_count": 1,
   "metadata": {},
   "outputs": [],
   "source": [
    "import numpy as np"
   ]
  },
  {
   "cell_type": "code",
   "execution_count": 2,
   "metadata": {},
   "outputs": [
    {
     "data": {
      "text/plain": [
       "array([[1, 2],\n",
       "       [3, 4]])"
      ]
     },
     "execution_count": 2,
     "metadata": {},
     "output_type": "execute_result"
    }
   ],
   "source": [
    "a = np.array([[1, 2], [3, 4]])\n",
    "b = np.array([[5,6]])\n",
    "a"
   ]
  },
  {
   "cell_type": "code",
   "execution_count": 3,
   "metadata": {},
   "outputs": [
    {
     "data": {
      "text/plain": [
       "array([[5, 6]])"
      ]
     },
     "execution_count": 3,
     "metadata": {},
     "output_type": "execute_result"
    }
   ],
   "source": [
    "b"
   ]
  },
  {
   "cell_type": "code",
   "execution_count": 4,
   "metadata": {},
   "outputs": [],
   "source": [
    "together = np.concatenate((a,b), axis=0)"
   ]
  },
  {
   "cell_type": "code",
   "execution_count": 5,
   "metadata": {},
   "outputs": [
    {
     "data": {
      "text/plain": [
       "array([[1, 2],\n",
       "       [3, 4],\n",
       "       [5, 6]])"
      ]
     },
     "execution_count": 5,
     "metadata": {},
     "output_type": "execute_result"
    }
   ],
   "source": [
    "together"
   ]
  },
  {
   "cell_type": "code",
   "execution_count": 6,
   "metadata": {},
   "outputs": [
    {
     "data": {
      "text/plain": [
       "(3, 2)"
      ]
     },
     "execution_count": 6,
     "metadata": {},
     "output_type": "execute_result"
    }
   ],
   "source": [
    "together.shape"
   ]
  },
  {
   "cell_type": "code",
   "execution_count": 7,
   "metadata": {},
   "outputs": [],
   "source": [
    "together[1,1] = 555"
   ]
  },
  {
   "cell_type": "code",
   "execution_count": 11,
   "metadata": {},
   "outputs": [
    {
     "data": {
      "text/plain": [
       "array([[  1,   2],\n",
       "       [  3, 555],\n",
       "       [  5,   6]])"
      ]
     },
     "execution_count": 11,
     "metadata": {},
     "output_type": "execute_result"
    }
   ],
   "source": [
    "# together is a copy over a and b (not a view)\n",
    "together"
   ]
  },
  {
   "cell_type": "code",
   "execution_count": 9,
   "metadata": {},
   "outputs": [
    {
     "data": {
      "text/plain": [
       "array([[1, 2],\n",
       "       [3, 4]])"
      ]
     },
     "execution_count": 9,
     "metadata": {},
     "output_type": "execute_result"
    }
   ],
   "source": [
    "a"
   ]
  },
  {
   "cell_type": "code",
   "execution_count": 10,
   "metadata": {},
   "outputs": [
    {
     "data": {
      "text/plain": [
       "array([[5, 6]])"
      ]
     },
     "execution_count": 10,
     "metadata": {},
     "output_type": "execute_result"
    }
   ],
   "source": [
    "b"
   ]
  },
  {
   "cell_type": "code",
   "execution_count": 13,
   "metadata": {},
   "outputs": [
    {
     "data": {
      "text/plain": [
       "array([[ 8, 11],\n",
       "       [14, 17]])"
      ]
     },
     "execution_count": 13,
     "metadata": {},
     "output_type": "execute_result"
    }
   ],
   "source": [
    "c = np.array([[1, 2], [3,4]]) * 3 + 5\n",
    "c"
   ]
  },
  {
   "cell_type": "code",
   "execution_count": 14,
   "metadata": {},
   "outputs": [
    {
     "data": {
      "text/plain": [
       "array([[ 1,  2,  8, 11],\n",
       "       [ 3,  4, 14, 17]])"
      ]
     },
     "execution_count": 14,
     "metadata": {},
     "output_type": "execute_result"
    }
   ],
   "source": [
    "np.concatenate((a, c), axis=1)"
   ]
  },
  {
   "cell_type": "code",
   "execution_count": 22,
   "metadata": {},
   "outputs": [
    {
     "data": {
      "text/plain": [
       "array([[ 1,  2],\n",
       "       [ 3,  4],\n",
       "       [ 8, 11],\n",
       "       [14, 17]])"
      ]
     },
     "execution_count": 22,
     "metadata": {},
     "output_type": "execute_result"
    }
   ],
   "source": [
    "np.concatenate((a, c), axis=0)"
   ]
  },
  {
   "cell_type": "code",
   "execution_count": 23,
   "metadata": {},
   "outputs": [
    {
     "data": {
      "text/plain": [
       "array([[[-2.05262866,  2.38215971,  0.19070119,  0.91367052],\n",
       "        [ 0.37333193,  0.87790386,  1.01374444,  1.398094  ],\n",
       "        [-1.392897  , -1.61215988,  0.60599049, -0.22690804]],\n",
       "\n",
       "       [[-0.63436712,  0.52521597, -0.40944065, -1.04719493],\n",
       "        [ 1.19873113, -0.51908893,  1.25136853,  1.00122099],\n",
       "        [-2.57501094,  0.06815193,  0.9340568 ,  0.46954976]],\n",
       "\n",
       "       [[ 0.34763827, -0.83496886,  0.24818077,  0.63615857],\n",
       "        [ 0.53819209, -2.98468546,  0.58664415,  0.70741617],\n",
       "        [-0.16340847,  1.09873721, -0.77299518,  1.1871334 ]],\n",
       "\n",
       "       [[-0.42769995,  0.75273789, -0.03933575, -1.08045832],\n",
       "        [ 0.42846239,  1.29151794,  1.28321307,  1.0054922 ],\n",
       "        [-0.88205271,  0.04628397,  1.74456972, -0.31241681]],\n",
       "\n",
       "       [[ 0.25396596,  1.21729339,  1.39193118,  1.21241688],\n",
       "        [ 0.76486759,  0.87776964,  1.39873234,  0.65271729],\n",
       "        [-0.39271077, -1.28943852,  0.75394783, -0.36901274]]])"
      ]
     },
     "execution_count": 23,
     "metadata": {},
     "output_type": "execute_result"
    }
   ],
   "source": [
    "arrays = np.zeros((5,3,4))\n",
    "for n in range(5):\n",
    "    arrays[n] = np.random.randn(3, 4)\n",
    "    \n",
    "arrays"
   ]
  },
  {
   "cell_type": "code",
   "execution_count": 24,
   "metadata": {},
   "outputs": [],
   "source": [
    "stack0 = np.stack(arrays, axis=0)\n",
    "stack1 = np.stack(arrays, axis=1)\n",
    "stack2 = np.stack(arrays, axis=2)"
   ]
  },
  {
   "cell_type": "code",
   "execution_count": 25,
   "metadata": {},
   "outputs": [
    {
     "data": {
      "text/plain": [
       "array([[[-2.05262866,  2.38215971,  0.19070119,  0.91367052],\n",
       "        [ 0.37333193,  0.87790386,  1.01374444,  1.398094  ],\n",
       "        [-1.392897  , -1.61215988,  0.60599049, -0.22690804]],\n",
       "\n",
       "       [[-0.63436712,  0.52521597, -0.40944065, -1.04719493],\n",
       "        [ 1.19873113, -0.51908893,  1.25136853,  1.00122099],\n",
       "        [-2.57501094,  0.06815193,  0.9340568 ,  0.46954976]],\n",
       "\n",
       "       [[ 0.34763827, -0.83496886,  0.24818077,  0.63615857],\n",
       "        [ 0.53819209, -2.98468546,  0.58664415,  0.70741617],\n",
       "        [-0.16340847,  1.09873721, -0.77299518,  1.1871334 ]],\n",
       "\n",
       "       [[-0.42769995,  0.75273789, -0.03933575, -1.08045832],\n",
       "        [ 0.42846239,  1.29151794,  1.28321307,  1.0054922 ],\n",
       "        [-0.88205271,  0.04628397,  1.74456972, -0.31241681]],\n",
       "\n",
       "       [[ 0.25396596,  1.21729339,  1.39193118,  1.21241688],\n",
       "        [ 0.76486759,  0.87776964,  1.39873234,  0.65271729],\n",
       "        [-0.39271077, -1.28943852,  0.75394783, -0.36901274]]])"
      ]
     },
     "execution_count": 25,
     "metadata": {},
     "output_type": "execute_result"
    }
   ],
   "source": [
    "stack0"
   ]
  },
  {
   "cell_type": "code",
   "execution_count": 29,
   "metadata": {},
   "outputs": [
    {
     "data": {
      "text/plain": [
       "(5, 3, 4)"
      ]
     },
     "execution_count": 29,
     "metadata": {},
     "output_type": "execute_result"
    }
   ],
   "source": [
    "stack0.shape"
   ]
  },
  {
   "cell_type": "code",
   "execution_count": 30,
   "metadata": {},
   "outputs": [
    {
     "data": {
      "text/plain": [
       "array([[[-2.05262866,  2.38215971,  0.19070119,  0.91367052],\n",
       "        [-0.63436712,  0.52521597, -0.40944065, -1.04719493],\n",
       "        [ 0.34763827, -0.83496886,  0.24818077,  0.63615857],\n",
       "        [-0.42769995,  0.75273789, -0.03933575, -1.08045832],\n",
       "        [ 0.25396596,  1.21729339,  1.39193118,  1.21241688]],\n",
       "\n",
       "       [[ 0.37333193,  0.87790386,  1.01374444,  1.398094  ],\n",
       "        [ 1.19873113, -0.51908893,  1.25136853,  1.00122099],\n",
       "        [ 0.53819209, -2.98468546,  0.58664415,  0.70741617],\n",
       "        [ 0.42846239,  1.29151794,  1.28321307,  1.0054922 ],\n",
       "        [ 0.76486759,  0.87776964,  1.39873234,  0.65271729]],\n",
       "\n",
       "       [[-1.392897  , -1.61215988,  0.60599049, -0.22690804],\n",
       "        [-2.57501094,  0.06815193,  0.9340568 ,  0.46954976],\n",
       "        [-0.16340847,  1.09873721, -0.77299518,  1.1871334 ],\n",
       "        [-0.88205271,  0.04628397,  1.74456972, -0.31241681],\n",
       "        [-0.39271077, -1.28943852,  0.75394783, -0.36901274]]])"
      ]
     },
     "execution_count": 30,
     "metadata": {},
     "output_type": "execute_result"
    }
   ],
   "source": [
    "stack1"
   ]
  },
  {
   "cell_type": "code",
   "execution_count": 31,
   "metadata": {},
   "outputs": [
    {
     "data": {
      "text/plain": [
       "(3, 5, 4)"
      ]
     },
     "execution_count": 31,
     "metadata": {},
     "output_type": "execute_result"
    }
   ],
   "source": [
    "stack1.shape"
   ]
  },
  {
   "cell_type": "code",
   "execution_count": 32,
   "metadata": {},
   "outputs": [
    {
     "data": {
      "text/plain": [
       "array([[[-2.05262866, -0.63436712,  0.34763827, -0.42769995,\n",
       "          0.25396596],\n",
       "        [ 2.38215971,  0.52521597, -0.83496886,  0.75273789,\n",
       "          1.21729339],\n",
       "        [ 0.19070119, -0.40944065,  0.24818077, -0.03933575,\n",
       "          1.39193118],\n",
       "        [ 0.91367052, -1.04719493,  0.63615857, -1.08045832,\n",
       "          1.21241688]],\n",
       "\n",
       "       [[ 0.37333193,  1.19873113,  0.53819209,  0.42846239,\n",
       "          0.76486759],\n",
       "        [ 0.87790386, -0.51908893, -2.98468546,  1.29151794,\n",
       "          0.87776964],\n",
       "        [ 1.01374444,  1.25136853,  0.58664415,  1.28321307,\n",
       "          1.39873234],\n",
       "        [ 1.398094  ,  1.00122099,  0.70741617,  1.0054922 ,\n",
       "          0.65271729]],\n",
       "\n",
       "       [[-1.392897  , -2.57501094, -0.16340847, -0.88205271,\n",
       "         -0.39271077],\n",
       "        [-1.61215988,  0.06815193,  1.09873721,  0.04628397,\n",
       "         -1.28943852],\n",
       "        [ 0.60599049,  0.9340568 , -0.77299518,  1.74456972,\n",
       "          0.75394783],\n",
       "        [-0.22690804,  0.46954976,  1.1871334 , -0.31241681,\n",
       "         -0.36901274]]])"
      ]
     },
     "execution_count": 32,
     "metadata": {},
     "output_type": "execute_result"
    }
   ],
   "source": [
    "stack2"
   ]
  },
  {
   "cell_type": "code",
   "execution_count": 33,
   "metadata": {},
   "outputs": [
    {
     "data": {
      "text/plain": [
       "(3, 4, 5)"
      ]
     },
     "execution_count": 33,
     "metadata": {},
     "output_type": "execute_result"
    }
   ],
   "source": [
    "stack2.shape"
   ]
  },
  {
   "cell_type": "code",
   "execution_count": 34,
   "metadata": {},
   "outputs": [
    {
     "ename": "ZeroDivisionError",
     "evalue": "integer division or modulo by zero",
     "output_type": "error",
     "traceback": [
      "\u001b[0;31m---------------------------------------------------------------------------\u001b[0m",
      "\u001b[0;31mTypeError\u001b[0m                                 Traceback (most recent call last)",
      "\u001b[0;32m~/anaconda3/envs/jup/lib/python3.7/site-packages/numpy/lib/shape_base.py\u001b[0m in \u001b[0;36msplit\u001b[0;34m(ary, indices_or_sections, axis)\u001b[0m\n\u001b[1;32m    842\u001b[0m     \u001b[0;32mtry\u001b[0m\u001b[0;34m:\u001b[0m\u001b[0;34m\u001b[0m\u001b[0;34m\u001b[0m\u001b[0m\n\u001b[0;32m--> 843\u001b[0;31m         \u001b[0mlen\u001b[0m\u001b[0;34m(\u001b[0m\u001b[0mindices_or_sections\u001b[0m\u001b[0;34m)\u001b[0m\u001b[0;34m\u001b[0m\u001b[0;34m\u001b[0m\u001b[0m\n\u001b[0m\u001b[1;32m    844\u001b[0m     \u001b[0;32mexcept\u001b[0m \u001b[0mTypeError\u001b[0m\u001b[0;34m:\u001b[0m\u001b[0;34m\u001b[0m\u001b[0;34m\u001b[0m\u001b[0m\n",
      "\u001b[0;31mTypeError\u001b[0m: object of type 'int' has no len()",
      "\nDuring handling of the above exception, another exception occurred:\n",
      "\u001b[0;31mZeroDivisionError\u001b[0m                         Traceback (most recent call last)",
      "\u001b[0;32m<ipython-input-34-9f2b744f9b94>\u001b[0m in \u001b[0;36m<module>\u001b[0;34m\u001b[0m\n\u001b[1;32m      1\u001b[0m \u001b[0mtemp\u001b[0m \u001b[0;34m=\u001b[0m \u001b[0mnp\u001b[0m\u001b[0;34m.\u001b[0m\u001b[0marange\u001b[0m\u001b[0;34m(\u001b[0m\u001b[0;36m5\u001b[0m\u001b[0;34m)\u001b[0m\u001b[0;34m\u001b[0m\u001b[0;34m\u001b[0m\u001b[0m\n\u001b[0;32m----> 2\u001b[0;31m \u001b[0mnp\u001b[0m\u001b[0;34m.\u001b[0m\u001b[0msplit\u001b[0m\u001b[0;34m(\u001b[0m\u001b[0mtemp\u001b[0m\u001b[0;34m,\u001b[0m \u001b[0;36m0\u001b[0m\u001b[0;34m)\u001b[0m\u001b[0;34m\u001b[0m\u001b[0;34m\u001b[0m\u001b[0m\n\u001b[0m",
      "\u001b[0;32m~/anaconda3/envs/jup/lib/python3.7/site-packages/numpy/lib/shape_base.py\u001b[0m in \u001b[0;36msplit\u001b[0;34m(ary, indices_or_sections, axis)\u001b[0m\n\u001b[1;32m    845\u001b[0m         \u001b[0msections\u001b[0m \u001b[0;34m=\u001b[0m \u001b[0mindices_or_sections\u001b[0m\u001b[0;34m\u001b[0m\u001b[0;34m\u001b[0m\u001b[0m\n\u001b[1;32m    846\u001b[0m         \u001b[0mN\u001b[0m \u001b[0;34m=\u001b[0m \u001b[0mary\u001b[0m\u001b[0;34m.\u001b[0m\u001b[0mshape\u001b[0m\u001b[0;34m[\u001b[0m\u001b[0maxis\u001b[0m\u001b[0;34m]\u001b[0m\u001b[0;34m\u001b[0m\u001b[0;34m\u001b[0m\u001b[0m\n\u001b[0;32m--> 847\u001b[0;31m         \u001b[0;32mif\u001b[0m \u001b[0mN\u001b[0m \u001b[0;34m%\u001b[0m \u001b[0msections\u001b[0m\u001b[0;34m:\u001b[0m\u001b[0;34m\u001b[0m\u001b[0;34m\u001b[0m\u001b[0m\n\u001b[0m\u001b[1;32m    848\u001b[0m             raise ValueError(\n\u001b[1;32m    849\u001b[0m                 'array split does not result in an equal division')\n",
      "\u001b[0;31mZeroDivisionError\u001b[0m: integer division or modulo by zero"
     ]
    }
   ],
   "source": [
    "temp = np.arange(5)\n",
    "np.split(temp, 0)"
   ]
  },
  {
   "cell_type": "code",
   "execution_count": 35,
   "metadata": {},
   "outputs": [
    {
     "data": {
      "text/plain": [
       "[array([0, 1, 2, 3, 4])]"
      ]
     },
     "execution_count": 35,
     "metadata": {},
     "output_type": "execute_result"
    }
   ],
   "source": [
    "np.split(temp, 1)"
   ]
  },
  {
   "cell_type": "code",
   "execution_count": 36,
   "metadata": {},
   "outputs": [
    {
     "data": {
      "text/plain": [
       "(5, 3, 4)"
      ]
     },
     "execution_count": 36,
     "metadata": {},
     "output_type": "execute_result"
    }
   ],
   "source": [
    "before_split = stack0\n",
    "before_split.shape"
   ]
  },
  {
   "cell_type": "code",
   "execution_count": 37,
   "metadata": {},
   "outputs": [
    {
     "data": {
      "text/plain": [
       "[array([[[-2.05262866,  2.38215971,  0.19070119,  0.91367052],\n",
       "         [ 0.37333193,  0.87790386,  1.01374444,  1.398094  ],\n",
       "         [-1.392897  , -1.61215988,  0.60599049, -0.22690804]]]),\n",
       " array([[[-0.63436712,  0.52521597, -0.40944065, -1.04719493],\n",
       "         [ 1.19873113, -0.51908893,  1.25136853,  1.00122099],\n",
       "         [-2.57501094,  0.06815193,  0.9340568 ,  0.46954976]]]),\n",
       " array([[[ 0.34763827, -0.83496886,  0.24818077,  0.63615857],\n",
       "         [ 0.53819209, -2.98468546,  0.58664415,  0.70741617],\n",
       "         [-0.16340847,  1.09873721, -0.77299518,  1.1871334 ]]]),\n",
       " array([[[-0.42769995,  0.75273789, -0.03933575, -1.08045832],\n",
       "         [ 0.42846239,  1.29151794,  1.28321307,  1.0054922 ],\n",
       "         [-0.88205271,  0.04628397,  1.74456972, -0.31241681]]]),\n",
       " array([[[ 0.25396596,  1.21729339,  1.39193118,  1.21241688],\n",
       "         [ 0.76486759,  0.87776964,  1.39873234,  0.65271729],\n",
       "         [-0.39271077, -1.28943852,  0.75394783, -0.36901274]]])]"
      ]
     },
     "execution_count": 37,
     "metadata": {},
     "output_type": "execute_result"
    }
   ],
   "source": [
    "s0 = np.split(before_split, 5, axis=0)\n",
    "s0"
   ]
  },
  {
   "cell_type": "code",
   "execution_count": 38,
   "metadata": {},
   "outputs": [
    {
     "data": {
      "text/plain": [
       "list"
      ]
     },
     "execution_count": 38,
     "metadata": {},
     "output_type": "execute_result"
    }
   ],
   "source": [
    "type(s0)"
   ]
  },
  {
   "cell_type": "code",
   "execution_count": 39,
   "metadata": {},
   "outputs": [
    {
     "data": {
      "text/plain": [
       "array([[[-0.63436712,  0.52521597, -0.40944065, -1.04719493],\n",
       "        [ 1.19873113, -0.51908893,  1.25136853,  1.00122099],\n",
       "        [-2.57501094,  0.06815193,  0.9340568 ,  0.46954976]]])"
      ]
     },
     "execution_count": 39,
     "metadata": {},
     "output_type": "execute_result"
    }
   ],
   "source": [
    "s0[1]"
   ]
  },
  {
   "cell_type": "code",
   "execution_count": 40,
   "metadata": {},
   "outputs": [
    {
     "data": {
      "text/plain": [
       "(1, 3, 4)"
      ]
     },
     "execution_count": 40,
     "metadata": {},
     "output_type": "execute_result"
    }
   ],
   "source": [
    "s0[1].shape"
   ]
  },
  {
   "cell_type": "code",
   "execution_count": 41,
   "metadata": {},
   "outputs": [
    {
     "data": {
      "text/plain": [
       "[array([[[-2.05262866,  2.38215971,  0.19070119,  0.91367052]],\n",
       " \n",
       "        [[-0.63436712,  0.52521597, -0.40944065, -1.04719493]],\n",
       " \n",
       "        [[ 0.34763827, -0.83496886,  0.24818077,  0.63615857]],\n",
       " \n",
       "        [[-0.42769995,  0.75273789, -0.03933575, -1.08045832]],\n",
       " \n",
       "        [[ 0.25396596,  1.21729339,  1.39193118,  1.21241688]]]),\n",
       " array([[[ 0.37333193,  0.87790386,  1.01374444,  1.398094  ]],\n",
       " \n",
       "        [[ 1.19873113, -0.51908893,  1.25136853,  1.00122099]],\n",
       " \n",
       "        [[ 0.53819209, -2.98468546,  0.58664415,  0.70741617]],\n",
       " \n",
       "        [[ 0.42846239,  1.29151794,  1.28321307,  1.0054922 ]],\n",
       " \n",
       "        [[ 0.76486759,  0.87776964,  1.39873234,  0.65271729]]]),\n",
       " array([[[-1.392897  , -1.61215988,  0.60599049, -0.22690804]],\n",
       " \n",
       "        [[-2.57501094,  0.06815193,  0.9340568 ,  0.46954976]],\n",
       " \n",
       "        [[-0.16340847,  1.09873721, -0.77299518,  1.1871334 ]],\n",
       " \n",
       "        [[-0.88205271,  0.04628397,  1.74456972, -0.31241681]],\n",
       " \n",
       "        [[-0.39271077, -1.28943852,  0.75394783, -0.36901274]]])]"
      ]
     },
     "execution_count": 41,
     "metadata": {},
     "output_type": "execute_result"
    }
   ],
   "source": [
    "s1 = np.split(before_split, 3, axis=1)\n",
    "s1"
   ]
  },
  {
   "cell_type": "code",
   "execution_count": 42,
   "metadata": {},
   "outputs": [
    {
     "data": {
      "text/plain": [
       "[array([[[-2.05262866],\n",
       "         [ 0.37333193],\n",
       "         [-1.392897  ]],\n",
       " \n",
       "        [[-0.63436712],\n",
       "         [ 1.19873113],\n",
       "         [-2.57501094]],\n",
       " \n",
       "        [[ 0.34763827],\n",
       "         [ 0.53819209],\n",
       "         [-0.16340847]],\n",
       " \n",
       "        [[-0.42769995],\n",
       "         [ 0.42846239],\n",
       "         [-0.88205271]],\n",
       " \n",
       "        [[ 0.25396596],\n",
       "         [ 0.76486759],\n",
       "         [-0.39271077]]]), array([[[ 2.38215971],\n",
       "         [ 0.87790386],\n",
       "         [-1.61215988]],\n",
       " \n",
       "        [[ 0.52521597],\n",
       "         [-0.51908893],\n",
       "         [ 0.06815193]],\n",
       " \n",
       "        [[-0.83496886],\n",
       "         [-2.98468546],\n",
       "         [ 1.09873721]],\n",
       " \n",
       "        [[ 0.75273789],\n",
       "         [ 1.29151794],\n",
       "         [ 0.04628397]],\n",
       " \n",
       "        [[ 1.21729339],\n",
       "         [ 0.87776964],\n",
       "         [-1.28943852]]]), array([[[ 0.19070119],\n",
       "         [ 1.01374444],\n",
       "         [ 0.60599049]],\n",
       " \n",
       "        [[-0.40944065],\n",
       "         [ 1.25136853],\n",
       "         [ 0.9340568 ]],\n",
       " \n",
       "        [[ 0.24818077],\n",
       "         [ 0.58664415],\n",
       "         [-0.77299518]],\n",
       " \n",
       "        [[-0.03933575],\n",
       "         [ 1.28321307],\n",
       "         [ 1.74456972]],\n",
       " \n",
       "        [[ 1.39193118],\n",
       "         [ 1.39873234],\n",
       "         [ 0.75394783]]]), array([[[ 0.91367052],\n",
       "         [ 1.398094  ],\n",
       "         [-0.22690804]],\n",
       " \n",
       "        [[-1.04719493],\n",
       "         [ 1.00122099],\n",
       "         [ 0.46954976]],\n",
       " \n",
       "        [[ 0.63615857],\n",
       "         [ 0.70741617],\n",
       "         [ 1.1871334 ]],\n",
       " \n",
       "        [[-1.08045832],\n",
       "         [ 1.0054922 ],\n",
       "         [-0.31241681]],\n",
       " \n",
       "        [[ 1.21241688],\n",
       "         [ 0.65271729],\n",
       "         [-0.36901274]]])]"
      ]
     },
     "execution_count": 42,
     "metadata": {},
     "output_type": "execute_result"
    }
   ],
   "source": [
    "s2 = np.split(before_split, 4, axis=2)\n",
    "s2"
   ]
  },
  {
   "cell_type": "code",
   "execution_count": null,
   "metadata": {},
   "outputs": [],
   "source": [
    "rpepato"
   ]
  }
 ],
 "metadata": {
  "kernelspec": {
   "display_name": "Python 3",
   "language": "python",
   "name": "python3"
  },
  "language_info": {
   "codemirror_mode": {
    "name": "ipython",
    "version": 3
   },
   "file_extension": ".py",
   "mimetype": "text/x-python",
   "name": "python",
   "nbconvert_exporter": "python",
   "pygments_lexer": "ipython3",
   "version": "3.7.2"
  }
 },
 "nbformat": 4,
 "nbformat_minor": 1
}
