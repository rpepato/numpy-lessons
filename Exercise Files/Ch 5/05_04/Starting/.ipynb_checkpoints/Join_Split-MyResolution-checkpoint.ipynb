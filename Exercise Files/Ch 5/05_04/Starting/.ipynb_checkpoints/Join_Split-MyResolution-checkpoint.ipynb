{
 "cells": [
  {
   "cell_type": "markdown",
   "metadata": {},
   "source": [
    "# Joining and Splitting Arrays\n",
    "- concatenate\n",
    "- stack\n",
    "- split\n"
   ]
  },
  {
   "cell_type": "code",
   "execution_count": 1,
   "metadata": {},
   "outputs": [],
   "source": [
    "import numpy as np"
   ]
  },
  {
   "cell_type": "code",
   "execution_count": 2,
   "metadata": {},
   "outputs": [
    {
     "data": {
      "text/plain": [
       "array([[1, 2],\n",
       "       [3, 4]])"
      ]
     },
     "execution_count": 2,
     "metadata": {},
     "output_type": "execute_result"
    }
   ],
   "source": [
    "a = np.array([[1, 2], [3, 4]])\n",
    "b = np.array([[5,6]])\n",
    "a"
   ]
  },
  {
   "cell_type": "code",
   "execution_count": 3,
   "metadata": {},
   "outputs": [
    {
     "data": {
      "text/plain": [
       "array([[5, 6]])"
      ]
     },
     "execution_count": 3,
     "metadata": {},
     "output_type": "execute_result"
    }
   ],
   "source": [
    "b"
   ]
  },
  {
   "cell_type": "code",
   "execution_count": 4,
   "metadata": {},
   "outputs": [],
   "source": [
    "together = np.concatenate((a,b), axis=0)"
   ]
  },
  {
   "cell_type": "code",
   "execution_count": 5,
   "metadata": {},
   "outputs": [
    {
     "data": {
      "text/plain": [
       "array([[1, 2],\n",
       "       [3, 4],\n",
       "       [5, 6]])"
      ]
     },
     "execution_count": 5,
     "metadata": {},
     "output_type": "execute_result"
    }
   ],
   "source": [
    "together"
   ]
  },
  {
   "cell_type": "code",
   "execution_count": 6,
   "metadata": {},
   "outputs": [
    {
     "data": {
      "text/plain": [
       "(3, 2)"
      ]
     },
     "execution_count": 6,
     "metadata": {},
     "output_type": "execute_result"
    }
   ],
   "source": [
    "together.shape"
   ]
  },
  {
   "cell_type": "code",
   "execution_count": 7,
   "metadata": {},
   "outputs": [],
   "source": [
    "together[1,1] = 555"
   ]
  },
  {
   "cell_type": "code",
   "execution_count": 11,
   "metadata": {},
   "outputs": [
    {
     "data": {
      "text/plain": [
       "array([[  1,   2],\n",
       "       [  3, 555],\n",
       "       [  5,   6]])"
      ]
     },
     "execution_count": 11,
     "metadata": {},
     "output_type": "execute_result"
    }
   ],
   "source": [
    "# together is a copy over a and b (not a view)\n",
    "together"
   ]
  },
  {
   "cell_type": "code",
   "execution_count": 9,
   "metadata": {},
   "outputs": [
    {
     "data": {
      "text/plain": [
       "array([[1, 2],\n",
       "       [3, 4]])"
      ]
     },
     "execution_count": 9,
     "metadata": {},
     "output_type": "execute_result"
    }
   ],
   "source": [
    "a"
   ]
  },
  {
   "cell_type": "code",
   "execution_count": 10,
   "metadata": {},
   "outputs": [
    {
     "data": {
      "text/plain": [
       "array([[5, 6]])"
      ]
     },
     "execution_count": 10,
     "metadata": {},
     "output_type": "execute_result"
    }
   ],
   "source": [
    "b"
   ]
  },
  {
   "cell_type": "code",
   "execution_count": 13,
   "metadata": {},
   "outputs": [
    {
     "data": {
      "text/plain": [
       "array([[ 8, 11],\n",
       "       [14, 17]])"
      ]
     },
     "execution_count": 13,
     "metadata": {},
     "output_type": "execute_result"
    }
   ],
   "source": [
    "c = np.array([[1, 2], [3,4]]) * 3 + 5\n",
    "c"
   ]
  },
  {
   "cell_type": "code",
   "execution_count": 14,
   "metadata": {},
   "outputs": [
    {
     "data": {
      "text/plain": [
       "array([[ 1,  2,  8, 11],\n",
       "       [ 3,  4, 14, 17]])"
      ]
     },
     "execution_count": 14,
     "metadata": {},
     "output_type": "execute_result"
    }
   ],
   "source": [
    "np.concatenate((a, c), axis=1)"
   ]
  },
  {
   "cell_type": "code",
   "execution_count": 22,
   "metadata": {},
   "outputs": [
    {
     "data": {
      "text/plain": [
       "array([[ 1,  2],\n",
       "       [ 3,  4],\n",
       "       [ 8, 11],\n",
       "       [14, 17]])"
      ]
     },
     "execution_count": 22,
     "metadata": {},
     "output_type": "execute_result"
    }
   ],
   "source": [
    "np.concatenate((a, c), axis=0)"
   ]
  },
  {
   "cell_type": "code",
   "execution_count": 23,
   "metadata": {},
   "outputs": [
    {
     "data": {
      "text/plain": [
       "array([[[-2.05262866,  2.38215971,  0.19070119,  0.91367052],\n",
       "        [ 0.37333193,  0.87790386,  1.01374444,  1.398094  ],\n",
       "        [-1.392897  , -1.61215988,  0.60599049, -0.22690804]],\n",
       "\n",
       "       [[-0.63436712,  0.52521597, -0.40944065, -1.04719493],\n",
       "        [ 1.19873113, -0.51908893,  1.25136853,  1.00122099],\n",
       "        [-2.57501094,  0.06815193,  0.9340568 ,  0.46954976]],\n",
       "\n",
       "       [[ 0.34763827, -0.83496886,  0.24818077,  0.63615857],\n",
       "        [ 0.53819209, -2.98468546,  0.58664415,  0.70741617],\n",
       "        [-0.16340847,  1.09873721, -0.77299518,  1.1871334 ]],\n",
       "\n",
       "       [[-0.42769995,  0.75273789, -0.03933575, -1.08045832],\n",
       "        [ 0.42846239,  1.29151794,  1.28321307,  1.0054922 ],\n",
       "        [-0.88205271,  0.04628397,  1.74456972, -0.31241681]],\n",
       "\n",
       "       [[ 0.25396596,  1.21729339,  1.39193118,  1.21241688],\n",
       "        [ 0.76486759,  0.87776964,  1.39873234,  0.65271729],\n",
       "        [-0.39271077, -1.28943852,  0.75394783, -0.36901274]]])"
      ]
     },
     "execution_count": 23,
     "metadata": {},
     "output_type": "execute_result"
    }
   ],
   "source": [
    "arrays = np.zeros((5,3,4))\n",
    "for n in range(5):\n",
    "    arrays[n] = np.random.randn(3, 4)\n",
    "    \n",
    "arrays"
   ]
  },
  {
   "cell_type": "code",
   "execution_count": 24,
   "metadata": {},
   "outputs": [],
   "source": [
    "stack0 = np.stack(arrays, axis=0)\n",
    "stack1 = np.stack(arrays, axis=1)\n",
    "stack2 = np.stack(arrays, axis=2)"
   ]
  },
  {
   "cell_type": "code",
   "execution_count": 25,
   "metadata": {},
   "outputs": [
    {
     "data": {
      "text/plain": [
       "array([[[-2.05262866,  2.38215971,  0.19070119,  0.91367052],\n",
       "        [ 0.37333193,  0.87790386,  1.01374444,  1.398094  ],\n",
       "        [-1.392897  , -1.61215988,  0.60599049, -0.22690804]],\n",
       "\n",
       "       [[-0.63436712,  0.52521597, -0.40944065, -1.04719493],\n",
       "        [ 1.19873113, -0.51908893,  1.25136853,  1.00122099],\n",
       "        [-2.57501094,  0.06815193,  0.9340568 ,  0.46954976]],\n",
       "\n",
       "       [[ 0.34763827, -0.83496886,  0.24818077,  0.63615857],\n",
       "        [ 0.53819209, -2.98468546,  0.58664415,  0.70741617],\n",
       "        [-0.16340847,  1.09873721, -0.77299518,  1.1871334 ]],\n",
       "\n",
       "       [[-0.42769995,  0.75273789, -0.03933575, -1.08045832],\n",
       "        [ 0.42846239,  1.29151794,  1.28321307,  1.0054922 ],\n",
       "        [-0.88205271,  0.04628397,  1.74456972, -0.31241681]],\n",
       "\n",
       "       [[ 0.25396596,  1.21729339,  1.39193118,  1.21241688],\n",
       "        [ 0.76486759,  0.87776964,  1.39873234,  0.65271729],\n",
       "        [-0.39271077, -1.28943852,  0.75394783, -0.36901274]]])"
      ]
     },
     "execution_count": 25,
     "metadata": {},
     "output_type": "execute_result"
    }
   ],
   "source": [
    "stack0"
   ]
  },
  {
   "cell_type": "code",
   "execution_count": 29,
   "metadata": {},
   "outputs": [
    {
     "data": {
      "text/plain": [
       "(5, 3, 4)"
      ]
     },
     "execution_count": 29,
     "metadata": {},
     "output_type": "execute_result"
    }
   ],
   "source": [
    "stack0.shape"
   ]
  },
  {
   "cell_type": "code",
   "execution_count": null,
   "metadata": {},
   "outputs": [],
   "source": []
  }
 ],
 "metadata": {
  "kernelspec": {
   "display_name": "Python 3",
   "language": "python",
   "name": "python3"
  },
  "language_info": {
   "codemirror_mode": {
    "name": "ipython",
    "version": 3
   },
   "file_extension": ".py",
   "mimetype": "text/x-python",
   "name": "python",
   "nbconvert_exporter": "python",
   "pygments_lexer": "ipython3",
   "version": "3.7.2"
  }
 },
 "nbformat": 4,
 "nbformat_minor": 1
}
