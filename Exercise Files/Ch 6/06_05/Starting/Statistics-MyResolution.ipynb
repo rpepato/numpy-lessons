{
 "cells": [
  {
   "cell_type": "markdown",
   "metadata": {},
   "source": [
    "# Statistics\n",
    "- import statistical methods\n",
    "- find information about statistical methods\n",
    "- perform rudimentary statistical operations\n",
    "- plot output from statistical operations"
   ]
  },
  {
   "cell_type": "code",
   "execution_count": 1,
   "metadata": {},
   "outputs": [],
   "source": [
    "%matplotlib inline\n",
    "import scipy as sp\n",
    "import numpy as np\n",
    "import matplotlib.pyplot as plt\n",
    "\n",
    "from scipy.stats import norm"
   ]
  },
  {
   "cell_type": "markdown",
   "metadata": {},
   "source": [
    "##### sample data set"
   ]
  },
  {
   "cell_type": "code",
   "execution_count": 6,
   "metadata": {},
   "outputs": [
    {
     "data": {
      "text/plain": [
       "numpy.ndarray"
      ]
     },
     "execution_count": 6,
     "metadata": {},
     "output_type": "execute_result"
    }
   ],
   "source": [
    "number_of_data_points = 10000\n",
    "random_data_set = sp.randn(number_of_data_points)\n",
    "type(random_data_set)"
   ]
  },
  {
   "cell_type": "code",
   "execution_count": 4,
   "metadata": {},
   "outputs": [
    {
     "data": {
      "text/plain": [
       "array([ 1.40715024,  0.22639749, -2.17407191,  0.36798178, -1.31192299,\n",
       "        0.85081771,  0.00670467,  0.03985988, -0.144346  , -1.22138307,\n",
       "       -0.15066592,  0.2765405 , -0.44641162, -0.39497434,  0.12294683,\n",
       "        1.90549259, -0.11202487, -1.10604625,  0.70916089, -0.10171145,\n",
       "       -1.24377581,  0.58958407, -1.06789918,  1.01965419, -0.52229811,\n",
       "        0.51180386,  0.77890062, -1.38236655, -0.02127581,  0.72893702,\n",
       "        1.19503551, -3.06484535,  1.14236138, -0.45525359,  0.47371313,\n",
       "        0.76352738,  0.99704116,  1.07820832, -0.84153818, -0.83060801,\n",
       "       -0.00480043, -1.04570672, -0.5225989 , -0.00746102,  3.97187109,\n",
       "       -0.20046357,  0.71602546, -0.10571604,  1.25987031, -0.16620207,\n",
       "        1.03591446, -0.49446523, -0.49875162,  0.06624823, -0.07348123,\n",
       "       -0.29520929,  0.29706199, -2.04549796, -1.33517622, -1.65311824,\n",
       "        0.04777166,  0.17333196, -0.75572665, -0.06190009,  1.13208895,\n",
       "        0.80106828,  1.08507393,  0.17866735,  0.38200766,  0.81057533,\n",
       "        0.45584555,  1.24941963, -0.68929301, -0.44641217, -0.55981265,\n",
       "       -1.54080482, -0.48671099,  0.1747914 ,  0.16513186,  0.52994522,\n",
       "       -0.32198668,  0.99919776,  0.79496546, -0.90159281, -0.64537268,\n",
       "        0.71472063,  0.48129166,  1.77589536, -1.14916895,  2.12728965,\n",
       "       -1.43148661,  0.27568347,  0.22315076,  0.47915358,  0.04913197,\n",
       "        0.06436297, -0.34083767, -1.31722816, -0.18168378])"
      ]
     },
     "execution_count": 4,
     "metadata": {},
     "output_type": "execute_result"
    }
   ],
   "source": [
    "random_data_set"
   ]
  },
  {
   "cell_type": "code",
   "execution_count": 7,
   "metadata": {},
   "outputs": [
    {
     "data": {
      "text/plain": [
       "0.0035241730708771373"
      ]
     },
     "execution_count": 7,
     "metadata": {},
     "output_type": "execute_result"
    }
   ],
   "source": [
    "random_data_set.mean()"
   ]
  },
  {
   "cell_type": "code",
   "execution_count": 8,
   "metadata": {},
   "outputs": [
    {
     "data": {
      "text/plain": [
       "-0.00492933452818679"
      ]
     },
     "execution_count": 8,
     "metadata": {},
     "output_type": "execute_result"
    }
   ],
   "source": [
    "sp.median(random_data_set)"
   ]
  },
  {
   "cell_type": "code",
   "execution_count": 9,
   "metadata": {},
   "outputs": [
    {
     "data": {
      "text/plain": [
       "-4.258422027681631"
      ]
     },
     "execution_count": 9,
     "metadata": {},
     "output_type": "execute_result"
    }
   ],
   "source": [
    "random_data_set.min()"
   ]
  },
  {
   "cell_type": "code",
   "execution_count": 10,
   "metadata": {},
   "outputs": [
    {
     "data": {
      "text/plain": [
       "3.659228025408377"
      ]
     },
     "execution_count": 10,
     "metadata": {},
     "output_type": "execute_result"
    }
   ],
   "source": [
    "random_data_set.max()"
   ]
  },
  {
   "cell_type": "code",
   "execution_count": 11,
   "metadata": {},
   "outputs": [
    {
     "data": {
      "text/plain": [
       "array([-4.25842203,  3.65922803])"
      ]
     },
     "execution_count": 11,
     "metadata": {},
     "output_type": "execute_result"
    }
   ],
   "source": [
    "min_max = np.array([random_data_set.min(), random_data_set.max()])\n",
    "min_max"
   ]
  },
  {
   "cell_type": "code",
   "execution_count": 12,
   "metadata": {},
   "outputs": [
    {
     "data": {
      "text/plain": [
       "array([0.99699342, 0.99399589])"
      ]
     },
     "execution_count": 12,
     "metadata": {},
     "output_type": "execute_result"
    }
   ],
   "source": [
    "spread_measures = np.array([sp.std(random_data_set), sp.var(random_data_set)])\n",
    "spread_measures"
   ]
  },
  {
   "cell_type": "code",
   "execution_count": 13,
   "metadata": {},
   "outputs": [
    {
     "data": {
      "text/plain": [
       "DescribeResult(nobs=10000, minmax=(-4.258422027681631, 3.659228025408377), mean=0.0035241730708771373, variance=0.9940952977016027, skewness=-0.015931842702937224, kurtosis=-0.047390055802283726)"
      ]
     },
     "execution_count": 13,
     "metadata": {},
     "output_type": "execute_result"
    }
   ],
   "source": [
    "sp.stats.describe(random_data_set)"
   ]
  },
  {
   "cell_type": "markdown",
   "metadata": {},
   "source": [
    "## Probability Distributions\n",
    "* continuous distributions\n",
    "    * Normal: norm\n",
    "    * Chi Squared: chi2\n",
    "    * Student's T: t\n",
    "    * Uniform: uniform\n",
    "* discrete distributions\n",
    "    * Poisson: poisson\n",
    "    * Binomial: binomial"
   ]
  },
  {
   "cell_type": "markdown",
   "metadata": {},
   "source": [
    "### Normal distribution\n",
    "documentation: https://docs.scipy.org/doc/scipy-0.16.0/reference/generated/scipy.stats.norm.html"
   ]
  },
  {
   "cell_type": "code",
   "execution_count": 14,
   "metadata": {},
   "outputs": [
    {
     "name": "stdout",
     "output_type": "stream",
     "text": [
      "116.14\n",
      "106.73\n",
      "112.82\n",
      "117.05\n",
      "130.27\n",
      " 89.04\n",
      "108.45\n",
      " 94.88\n"
     ]
    }
   ],
   "source": [
    "iq_mean = 100\n",
    "iq_std_dev = 15\n",
    "iq_distribution = norm(loc=iq_mean, scale=iq_std_dev)\n",
    "for n in np.arange(8):\n",
    "    print('{:6.2f}'.format(iq_distribution.rvs()))"
   ]
  },
  {
   "cell_type": "code",
   "execution_count": 17,
   "metadata": {},
   "outputs": [
    {
     "data": {
      "image/png": "[encoded data removed]",
      "text/plain": [
       "<Figure size 432x288 with 1 Axes>"
      ]
     },
     "metadata": {
      "needs_background": "light"
     },
     "output_type": "display_data"
    }
   ],
   "source": [
    "mu, sigma = 100, 15\n",
    "data_set = mu + sigma * np.random.randn(10000)\n",
    "\n",
    "#the histogram of data\n",
    "n, bins, patches = plt.hist(data_set, 50, density=1, facecolor='g', alpha=0.75)\n",
    "\n",
    "plt.xlabel('IQ Score')\n",
    "plt.ylabel('Probability')\n",
    "plt.title('Histogram of IQ')\n",
    "plt.text(60, .025, r'$\\mu=100,\\ \\sigma=15$')\n",
    "plt.axis([40, 160, 0, 0.03])\n",
    "plt.grid(True)\n",
    "plt.show()"
   ]
  },
  {
   "cell_type": "code",
   "execution_count": null,
   "metadata": {},
   "outputs": [],
   "source": []
  }
 ],
 "metadata": {
  "kernelspec": {
   "display_name": "Python 3",
   "language": "python",
   "name": "python3"
  },
  "language_info": {
   "codemirror_mode": {
    "name": "ipython",
    "version": 3
   },
   "file_extension": ".py",
   "mimetype": "text/x-python",
   "name": "python",
   "nbconvert_exporter": "python",
   "pygments_lexer": "ipython3",
   "version": "3.7.2"
  }
 },
 "nbformat": 4,
 "nbformat_minor": 1
}
